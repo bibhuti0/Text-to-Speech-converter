{
 "cells": [
  {
   "cell_type": "code",
   "execution_count": 2,
   "id": "75a258c4",
   "metadata": {},
   "outputs": [],
   "source": [
    "# importing the libraries\n",
    "from newspaper import Article \n",
    "import nltk\n",
    "from gtts import gTTS\n",
    "import os "
   ]
  },
  {
   "cell_type": "code",
   "execution_count": 3,
   "id": "a50596a9",
   "metadata": {},
   "outputs": [],
   "source": [
    "# get the article \n",
    "article  = Article('https://www.indiatoday.in/india/story/industrialist-ratan-tatas-long-pending-pets-project-rolls-out-in-south-mumbai-2499506-2024-02-09')\n",
    "article.download()\n",
    "article.parse()"
   ]
  },
  {
   "cell_type": "code",
   "execution_count": 4,
   "id": "86a42b97",
   "metadata": {},
   "outputs": [
    {
     "name": "stderr",
     "output_type": "stream",
     "text": [
      "[nltk_data] Downloading package punkt to\n",
      "[nltk_data]     C:\\Users\\bibhu\\AppData\\Roaming\\nltk_data...\n",
      "[nltk_data]   Package punkt is already up-to-date!\n"
     ]
    }
   ],
   "source": [
    "nltk.download('punkt')\n",
    "article.nlp()"
   ]
  },
  {
   "cell_type": "code",
   "execution_count": 5,
   "id": "4fab8d9b",
   "metadata": {},
   "outputs": [],
   "source": [
    "# get the article text\n",
    "mytext = article.text"
   ]
  },
  {
   "cell_type": "code",
   "execution_count": 6,
   "id": "af4c6190",
   "metadata": {},
   "outputs": [],
   "source": [
    "language = 'en' # english"
   ]
  },
  {
   "cell_type": "code",
   "execution_count": 7,
   "id": "82296280",
   "metadata": {},
   "outputs": [],
   "source": [
    "myobj = gTTS(text = mytext,lang=language,slow=False)"
   ]
  },
  {
   "cell_type": "code",
   "execution_count": 12,
   "id": "73a2e787",
   "metadata": {},
   "outputs": [],
   "source": [
    "myobj.save(\"read_article.mp3\")"
   ]
  },
  {
   "cell_type": "code",
   "execution_count": 13,
   "id": "3696e676",
   "metadata": {},
   "outputs": [
    {
     "data": {
      "text/plain": [
       "0"
      ]
     },
     "execution_count": 13,
     "metadata": {},
     "output_type": "execute_result"
    }
   ],
   "source": [
    "os.system(\"start read_article.mp3\")"
   ]
  }
 ],
 "metadata": {
  "kernelspec": {
   "display_name": "Python 3 (ipykernel)",
   "language": "python",
   "name": "python3"
  },
  "language_info": {
   "codemirror_mode": {
    "name": "ipython",
    "version": 3
   },
   "file_extension": ".py",
   "mimetype": "text/x-python",
   "name": "python",
   "nbconvert_exporter": "python",
   "pygments_lexer": "ipython3",
   "version": "3.11.3"
  }
 },
 "nbformat": 4,
 "nbformat_minor": 5
}
